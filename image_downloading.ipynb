{
 "cells": [
  {
   "cell_type": "code",
   "execution_count": 1,
   "metadata": {},
   "outputs": [],
   "source": [
    "from urllib.request import Request, urlretrieve\n",
    "import requests\n",
    "import cv2\n",
    "import numpy as np\n",
    "import os\n",
    "import urllib\n",
    "import sys\n",
    "from random import randint\n",
    "import pandas as pd"
   ]
  },
  {
   "cell_type": "code",
   "execution_count": 2,
   "metadata": {},
   "outputs": [],
   "source": [
    "# Define function to download a set number of images associated with given wnid\n",
    "def download_wnid(wnid, no_images):\n",
    "    url = 'http://www.image-net.org/api/text/imagenet.synset.geturls?wnid=' + wnid\n",
    "    request = urllib.request.Request(url)\n",
    "    response = urllib.request.urlopen(request)\n",
    "    urls = response.read().decode('utf-8').split('\\n')\n",
    "    selections = [randint(0, len(urls)-1) for i in range(no_images)]\n",
    "\n",
    "    if os.path.exists('images/'+wnid) == False:\n",
    "        os.makedirs('images/'+wnid)\n",
    "\n",
    "    pic_num = 1\n",
    "    for s in selections:\n",
    "        try:\n",
    "            print(urls[s])\n",
    "            urlretrieve(urls[s], \"images/\"+wnid+\"/\"+str(pic_num)+\".jpg\")\n",
    "            pic_num += 1\n",
    "\n",
    "        except Exception as e:\n",
    "            print(str(e))  \n",
    "            \n",
    "## Define a function to create a randomly selected list of synsets\n",
    "def syn_list(syn_no):\n",
    "    syns = pd.read_csv('synset_wnid.csv', header=None)\n",
    "    syns_list = [randint(0, len(syns)-1) for i in range(syn_no)]\n",
    "    return syns.loc[syns_list, 0]\n",
    "\n",
    "## Find name of \n",
    "def return_name(wnid):\n",
    "    name = 'http://www.image-net.org/api/text/wordnet.synset.getwords?wnid='+wnid\n",
    "    eng_name = requests.get(name).content.decode(\"utf-8\").strip('\\n')\n",
    "    return eng_name"
   ]
  },
  {
   "cell_type": "code",
   "execution_count": null,
   "metadata": {},
   "outputs": [
    {
     "name": "stdout",
     "output_type": "stream",
     "text": [
      "bowl :  n02881546\n",
      "http://farm4.static.flickr.com/3169/2667898625_08d86122f9.jpg\n",
      "http://farm3.static.flickr.com/2144/2327140825_410444e3f5.jpg\n",
      "HTTP Error 404: Not Found\n",
      "http://farm1.static.flickr.com/17/22227566_e36f94fb51.jpg\n",
      "http://farm1.static.flickr.com/28/52002867_7811d8ff62.jpg\n",
      "http://farm1.static.flickr.com/110/274213394_d23a86a07b.jpg\n",
      "HTTP Error 404: Not Found\n",
      "http://farm2.static.flickr.com/1413/1001913652_1d6c63e2a3.jpg\n",
      "http://farm4.static.flickr.com/3134/2828471787_19e20c19d0.jpg\n",
      "http://farm1.static.flickr.com/17/22227566_e36f94fb51.jpg\n",
      "http://farm1.static.flickr.com/188/366649420_324f78519f.jpg\n",
      "http://farm2.static.flickr.com/1413/1001913652_1d6c63e2a3.jpg\n",
      "http://farm3.static.flickr.com/2366/2308799502_876a619b93.jpg\n",
      "http://farm4.static.flickr.com/3169/2667898625_08d86122f9.jpg\n",
      "http://farm1.static.flickr.com/110/274213394_d23a86a07b.jpg\n",
      "HTTP Error 404: Not Found\n",
      "http://farm4.static.flickr.com/3594/3381967254_d527f0a76a.jpg\n",
      "HTTP Error 404: Not Found\n",
      "http://farm1.static.flickr.com/31/55404667_70ed3f8903.jpg\n",
      "http://farm4.static.flickr.com/3363/3421847335_d3870d5a13.jpg\n",
      "http://farm2.static.flickr.com/1232/577698312_5a49c1da6e.jpg\n",
      "\n",
      "unknown url type: ''\n",
      "http://farm1.static.flickr.com/9/13864703_9a0c928c57.jpg\n",
      "http://farm3.static.flickr.com/2126/2412210660_90febaa0fe.jpg\n",
      "http://farm1.static.flickr.com/57/192843236_1007565774.jpg\n",
      "http://farm1.static.flickr.com/9/13864703_9a0c928c57.jpg\n",
      "http://farm1.static.flickr.com/160/368995255_737f3bea0c.jpg\n",
      "http://farm3.static.flickr.com/2189/1894491362_d5867910e3.jpg\n",
      "http://farm4.static.flickr.com/3134/2828471787_19e20c19d0.jpg\n",
      "http://farm1.static.flickr.com/165/366649445_1660886e9c.jpg\n",
      "http://farm4.static.flickr.com/3201/2625288358_82d1d7b6c9.jpg\n",
      "HTTP Error 404: Not Found\n",
      "http://farm4.static.flickr.com/3253/3037760156_905edec0a3.jpg\n",
      "HTTP Error 404: Not Found\n",
      "http://farm4.static.flickr.com/3078/2634857768_f26f29b5a2.jpg\n",
      "http://farm3.static.flickr.com/2144/2327140825_410444e3f5.jpg\n",
      "HTTP Error 404: Not Found\n",
      "http://farm1.static.flickr.com/17/22227566_e36f94fb51.jpg\n"
     ]
    }
   ],
   "source": [
    "## Pull a number of images of number of synsets (randomly selected) ##\n",
    "\n",
    "syn_no = 5\n",
    "image_no = 1000\n",
    "\n",
    "for i in syn_list(syn_no):\n",
    "    print(return_name(i),\": \", i)\n",
    "    download_wnid(i, image_no)"
   ]
  },
  {
   "cell_type": "code",
   "execution_count": null,
   "metadata": {},
   "outputs": [],
   "source": []
  }
 ],
 "metadata": {
  "kernelspec": {
   "display_name": "Python 3",
   "language": "python",
   "name": "python3"
  },
  "language_info": {
   "codemirror_mode": {
    "name": "ipython",
    "version": 3
   },
   "file_extension": ".py",
   "mimetype": "text/x-python",
   "name": "python",
   "nbconvert_exporter": "python",
   "pygments_lexer": "ipython3",
   "version": "3.7.4"
  }
 },
 "nbformat": 4,
 "nbformat_minor": 2
}
